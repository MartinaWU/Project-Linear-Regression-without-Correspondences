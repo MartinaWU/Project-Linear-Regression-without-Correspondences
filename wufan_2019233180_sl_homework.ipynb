{
 "cells": [
  {
   "cell_type": "markdown",
   "metadata": {},
   "source": [
    "# Homework: Linear Regression without Correspondences\n",
    "Wu Fan(2019233180)"
   ]
  },
  {
   "cell_type": "markdown",
   "metadata": {},
   "source": [
    "## 1 Appetizer"
   ]
  },
  {
   "cell_type": "markdown",
   "metadata": {},
   "source": [
    "* Exercise 1.1 implement the function SLR 1 gen data"
   ]
  },
  {
   "cell_type": "code",
   "execution_count": 2,
   "metadata": {},
   "outputs": [
    {
     "data": {
      "text/plain": [
       "SLR_1_gen_data"
      ]
     },
     "execution_count": 2,
     "metadata": {},
     "output_type": "execute_result"
    }
   ],
   "source": [
    "#using Distributions\n",
    "using LinearAlgebra\n",
    "using Random\n",
    "\"\"\"\n",
    "generating data:\n",
    "m, n: the dimensions of the data\n",
    "sigma: the standard deviation of noise\n",
    "shuffled ratio: how many percentages of the rows of A, or equivalently the entries of y. should be shuffled.\n",
    "The m × n matrix A and the parameter x ∈ Rn are randomly sampled from the standard normal distribution.\n",
    "\"\"\"\n",
    "function SLR_1_gen_data(m, n, sigma,shuffled_ratio )\n",
    "    A=randn(m,n)\n",
    "    x=randn(n,1)\n",
    "    P=Matrix{Float64}(I, m, m)\n",
    "    B=copy(A)\n",
    "    noise=sigma*randn(m,1)\n",
    "    if shuffled_ratio==0\n",
    "       B=P*B\n",
    "    else\n",
    "       s=trunc(Int,m*shuffled_ratio)\n",
    "       index=randperm(m)[1:s]\n",
    "       index1=shuffle(index)\n",
    "       B[index,:]=B[index1,:]\n",
    "    end\n",
    "    y=B*x+noise\n",
    "    \n",
    "    return A,x,y#,B\n",
    "end"
   ]
  },
  {
   "cell_type": "markdown",
   "metadata": {},
   "source": [
    "* Exercise 1.2  \n",
    "Proof   \n",
    "    1.first we sort the y in a ascend(descend) order by a complexity O(m × log m) sort algorithm, and rerange the matrix A in the Corresponding order  \n",
    "    2.then the optimal solution should be the index of Pi make y1=A(rerange)x in the ascend(descend) order  \n",
    "    3.if there exist another index of $\\Pi$ make the $||y-\\Pi Ax||_2$ minimal with y2=A(rerange)x not in a ascending(descending) order  \n",
    "    4.for the easy case we switch the $y_1[i]$ and $y_1[j]$ to get a new solution(i<j)  \n",
    "    $y_1[i]$<$y_1[j]$ and $y_2[i]$>$y_2[j]$   \n",
    "    5.with $y[i]$<$y[j]$, we can easily see that $(y[i]-y_1[i])^2+(y[j]-y_1[j])^2<(y[i]-y_2[i])^2+(y[j]-y_2[j])^2$    \n",
    "    6.so $||y-y_2||_2$ is bigger than $||y-y_1||_2$  \n",
    " when the observable vector y has no same entry.  the solution of (1.3) is unique. \n",
    "\n"
   ]
  },
  {
   "cell_type": "code",
   "execution_count": 3,
   "metadata": {},
   "outputs": [
    {
     "data": {
      "text/plain": [
       "SLR_1_Pi_given_x (generic function with 1 method)"
      ]
     },
     "execution_count": 3,
     "metadata": {},
     "output_type": "execute_result"
    }
   ],
   "source": [
    "function SLR_1_Pi_given_x(A, y, x)\n",
    "\"\"\"\n",
    "find the optimal permutation Πx for the problem O(m × log m)\n",
    "function [Pi_idx] = SLR_1_Pi_given_x(A, y, x)\n",
    "% Pi_idx is a m-dimensional vector such that Pi*A = A(Pi_idx, :)\n",
    "\n",
    "Pi_idx = zeros(m, 1);\n",
    "end\n",
    "\"\"\"\n",
    "    y_sorted=sort(y,dims=1)#mlogm\n",
    "    index_y=sortperm(y[:,1])\n",
    "    index_Ax=sortperm((A*x)[:,1])\n",
    "    Pi_idx=sortperm(index_y)\n",
    "    Pi_idx=index_Ax[Pi_idx,:]\n",
    "    x_=A[Pi_idx[:,1],:]*x-y\n",
    "    error=norm(x_)\n",
    "return Pi_idx,error\n",
    "end   "
   ]
  },
  {
   "cell_type": "code",
   "execution_count": 4,
   "metadata": {},
   "outputs": [
    {
     "data": {
      "text/plain": [
       "([1; 2; … ; 6; 7], 0.027949614809862598)"
      ]
     },
     "execution_count": 4,
     "metadata": {},
     "output_type": "execute_result"
    }
   ],
   "source": [
    "#test with noise \n",
    "#B is the shuffled matrix of A, which means Pi*A=B\n",
    "A,x,y=SLR_1_gen_data(7, 3, 0.01,0.3 )\n",
    "Pi_idx,error=SLR_1_Pi_given_x(A, y, x)"
   ]
  },
  {
   "cell_type": "code",
   "execution_count": 5,
   "metadata": {},
   "outputs": [
    {
     "data": {
      "text/plain": [
       "([1; 2; … ; 6; 7], 0.0)"
      ]
     },
     "execution_count": 5,
     "metadata": {},
     "output_type": "execute_result"
    }
   ],
   "source": [
    "#test without noise \n",
    "#B is the shuffled matrix of A, which means Pi*A=B\n",
    "A,x,y=SLR_1_gen_data(7, 3, 0.0,0.3 )\n",
    "Pi_idx,error=SLR_1_Pi_given_x(A, y, x)"
   ]
  },
  {
   "cell_type": "markdown",
   "metadata": {},
   "source": [
    "## 2 Brute Force"
   ]
  },
  {
   "cell_type": "markdown",
   "metadata": {},
   "source": [
    "*   Exercise 2.1  least-square solver  \n",
    "generate data A, y without shuffling,\n",
    "How large sigma can be for least-squares to have small errors (≤ 1%)  \n",
    "\\begin{gather}\n",
    "errors=100\\%*\\frac{||x-\\hat{x}||_2}{||x||_2}\\\\\\\\\n",
    "     y=Ax+\\epsilon \\\\\\\\\n",
    "     \\hat{x}=(A^TA)^{-1}A^Ty \\\\\\\\\n",
    "     error=\\frac{||x-(A^TA)^{-1} A^T(Ax+\\epsilon)||_2}{||x||_2}=\\frac{\\sigma||\\xi||_2}{||x||_2}\n",
    "\\end{gather}\n",
    "     To have small errors $(\\leqslant1\\%)$, $\\xi$, x is both produced by norm distribution \n",
    ", we should set the magnitude of sigma equals 0.01. the code following can also show this."
   ]
  },
  {
   "cell_type": "code",
   "execution_count": 6,
   "metadata": {},
   "outputs": [],
   "source": [
    "#SLR 2 brute force run.jl\n",
    "for m in 4:8\n",
    "    sigma=0\n",
    "    result=[]\n",
    "    Error=0\n",
    "    while Error < 0.01\n",
    "        A,x,y=SLR_1_gen_data(m, 3, sigma, 0)\n",
    "        #least-square solver \n",
    "        x_hat=inv(A'*A)*(A'*y)\n",
    "        Error=norm(x-x_hat)/norm(x)\n",
    "        push!(result,Error)\n",
    "        sigma+=0.01\n",
    "    end\n",
    "    #println((sigma-0.01), result[end-1])\n",
    "    #println((sigma), result[end])\n",
    "end"
   ]
  },
  {
   "cell_type": "markdown",
   "metadata": {},
   "source": [
    "| m   |  max_sigma |  error|  max_sigma+0.01 |  next_error|\n",
    "|---|:----:|:-------:|:------:|:------:|\n",
    "| 4 | 0.02 | 1.64e-16|0.03|0.175 |\n",
    "| 5 | 0.02 | 0.00978 |0.03|0.103|\n",
    "| 6 | 0.01 | 0.00978 |0.02|0.249|\n",
    "| 7 | 0.03 | 1.19e-16|0.04|0.38|\n",
    "| 8 | 0.02 | 0.00438 |0.03|0.15|"
   ]
  },
  {
   "cell_type": "markdown",
   "metadata": {},
   "source": [
    "* Exercise 2.2 implementation  SLR 2 brute force.jl"
   ]
  },
  {
   "cell_type": "code",
   "execution_count": 4,
   "metadata": {},
   "outputs": [
    {
     "data": {
      "text/plain": [
       "SLR_2_brute_force (generic function with 1 method)"
      ]
     },
     "execution_count": 4,
     "metadata": {},
     "output_type": "execute_result"
    }
   ],
   "source": [
    "using Combinatorics\n",
    "function SLR_2_brute_force(A,y)\n",
    "    \"\"\"\n",
    "    store the x_hat and Pi in the brute_result(dict)\n",
    "    \"\"\"\n",
    "    m,n=size(A)\n",
    "    #compute all permutations of n rows of A\n",
    "    indexs=collect(permutations(1:m,m)) #outout is A_m^n\n",
    "    #brute_result=Dict{Array,Array}()\n",
    "    min_error=0.5\n",
    "    x_f=zeros(n,1)\n",
    "    pi_index=zeros(m,1)\n",
    "    for index in indexs \n",
    "        As=A[index,:]\n",
    "        x_hat=inv(As'*As)*(As'*y)\n",
    "        #compare Least squares residual\n",
    "        error=norm(y-As*x_hat)\n",
    "        if min_error>error\n",
    "            min_error=error\n",
    "            x_f=x_hat\n",
    "            pi_index=index\n",
    "        end\n",
    "    end\n",
    "    return pi_index,min_error,x_f\n",
    "end"
   ]
  },
  {
   "cell_type": "markdown",
   "metadata": {},
   "source": [
    "* Exercise 2.2 How large m, n can go for this algorithm to be efficient (terminates in less than half an hour)  \n",
    "Processor :\tQuad-Core Intel Core i5 2.3 GHz"
   ]
  },
  {
   "cell_type": "code",
   "execution_count": null,
   "metadata": {},
   "outputs": [],
   "source": [
    "m=10#9,8,7,6,5,4,3\n",
    "Error=0\n",
    "t=0\n",
    "while t<=1.5*60*60\n",
    "    t1=time()\n",
    "    A,x,y=SLR_1_gen_data(m, 10, 0.01,0.3)\n",
    "    pi_index,min_error,x_f=SLR_2_brute_force(A,y)\n",
    "    e=norm(x-x_f)/norm(x)\n",
    "    t2=time()\n",
    "    t=t2-t1\n",
    "    println(e)#see the error goes\n",
    "    println(t)\n",
    "    println(m)\n",
    "    m+=1\n",
    "end\n",
    "print(m)#maximize m"
   ]
  },
  {
   "cell_type": "markdown",
   "metadata": {},
   "source": [
    "| max_m   |  n |\n",
    "|----|:----:|\n",
    "|11|3|\n",
    "|11|4|\n",
    "|11|5|\n",
    "|10|6|\n",
    "|10|7|\n",
    "|10|8|\n",
    "|10|9(error:0.13)|"
   ]
  },
  {
   "cell_type": "markdown",
   "metadata": {},
   "source": [
    "Exercise 2.2 How large sigma can be for this algorithm to have small errors (≤ 1%)"
   ]
  },
  {
   "cell_type": "code",
   "execution_count": 18,
   "metadata": {},
   "outputs": [
    {
     "name": "stdout",
     "output_type": "stream",
     "text": [
      "40.030.09634418171542888\n",
      "50.050.044053965219168635\n",
      "60.040.15016163400459318\n",
      "70.030.013008559136774638\n",
      "80.030.02301043506369592\n"
     ]
    }
   ],
   "source": [
    "for m in 4:8\n",
    "    sigma=0.0\n",
    "    min_error=0\n",
    "    while min_error<0.01\n",
    "        A,x,y=SLR_1_gen_data(m, 3, sigma, 0.3)\n",
    "        #brute_result=SLR_2_brute_force(A,y)\n",
    "        #Error=[]\n",
    "        #for x_hat in collect(values(brute_result))\n",
    "        #    error = norm(x_hat - x) / norm(x)\n",
    "        #    push!(Error,error)\n",
    "        #    min_error=minimum(Error)  \n",
    "        #end\n",
    "        pi_index,residual_error,x_f=SLR_2_brute_force(A,y)\n",
    "        min_error = norm(x_f - x) / norm(x)\n",
    "        sigma+=0.01\n",
    "    end\n",
    "    println(m, (sigma), min_error)\n",
    "end"
   ]
  },
  {
   "cell_type": "markdown",
   "metadata": {},
   "source": [
    "| m   |  max_sigma |  max_sigma+0.01 |  next_error|\n",
    "|---|:----:|:------:|:------:|\n",
    "| 4 | 0.02 |0.03|0.0963 |\n",
    "| 5 | 0.04 |0.05|0.0441|\n",
    "| 6 | 0.03 |0.04|0.150|\n",
    "| 7 | 0.02 |0.03|0.013|\n",
    "| 8 | 0.02 |0.03|0.023|"
   ]
  },
  {
   "cell_type": "markdown",
   "metadata": {},
   "source": [
    "* Exercise 2.2 How many percentages of shuffled data can the algorithm tolerate \n",
    "consider both time and error  \n",
    "Almost can recovery with 100% and small running time when m=9,n=3 case"
   ]
  },
  {
   "cell_type": "code",
   "execution_count": 25,
   "metadata": {},
   "outputs": [
    {
     "name": "stdout",
     "output_type": "stream",
     "text": [
      "40.10.011496730717910913\n",
      "50.300000000000000040.013414348358015356\n",
      "60.10.010457453479885793\n",
      "70.50.017209886839444296\n",
      "80.20.02400701807170804\n",
      "91.09999999999999990.005122594344178337\n"
     ]
    },
    {
     "ename": "InterruptException",
     "evalue": "InterruptException:",
     "output_type": "error",
     "traceback": [
      "InterruptException:",
      "",
      "Stacktrace:",
      " [1] _growend! at ./array.jl:812 [inlined]",
      " [2] resize! at ./array.jl:1004 [inlined]",
      " [3] getri!(::Array{Float64,2}, ::Array{Int64,1}) at /Users/osx/buildbot/slave/package_osx64/build/usr/share/julia/stdlib/v1.1/LinearAlgebra/src/lapack.jl:985",
      " [4] inv! at /Users/osx/buildbot/slave/package_osx64/build/usr/share/julia/stdlib/v1.1/LinearAlgebra/src/lu.jl:410 [inlined]",
      " [5] inv(::Array{Float64,2}) at /Users/osx/buildbot/slave/package_osx64/build/usr/share/julia/stdlib/v1.1/LinearAlgebra/src/dense.jl:732",
      " [6] SLR_2_brute_force(::Array{Float64,2}, ::Array{Float64,2}) at ./In[7]:15",
      " [7] top-level scope at ./In[25]:13"
     ]
    }
   ],
   "source": [
    "for m in 4:10\n",
    "    shuffle_rate=0\n",
    "    min_error=0\n",
    "    while min_error < 0.01\n",
    "        A,x,y=SLR_1_gen_data(m, 3, 0.01, shuffle_rate)\n",
    "        #brute_result=SLR_2_brute_force(A,y)\n",
    "        #Error=[]\n",
    "        #for x_hat in collect(values(brute_result))\n",
    "        #   error = norm(x_hat - x) / norm(x)\n",
    "        #    push!(Error,error)\n",
    "        #    min_error=minimum(Error)  \n",
    "        #end\n",
    "        pi_index,residual_error,x_f=SLR_2_brute_force(A,y)\n",
    "        min_error = norm(x_f - x) / norm(x)\n",
    "        shuffle_rate+=0.1\n",
    "        if shuffle_rate>1\n",
    "            break\n",
    "        end\n",
    "    end\n",
    "    println(m, shuffle_rate, min_error)\n",
    "end"
   ]
  },
  {
   "cell_type": "markdown",
   "metadata": {},
   "source": [
    "| m   |  max_shuffle_rate |  max_shuffle_rate+0.1 |  next_error|\n",
    "|---|:----:|:------:|:------:|\n",
    "| 4 | 0.0 |0.1|0.011 |\n",
    "| 5 | 0.2 |0.3|0.013|\n",
    "| 6 | 0.0 |0.1|0.0104|\n",
    "| 7 | 0.4 |0.5|0.0172|\n",
    "| 8 | 0.1 |0.2|0.024|\n",
    "| 9 |  1.0|1.0|0.005|\n",
    "| 10 | time|is |too long|\n"
   ]
  },
  {
   "cell_type": "markdown",
   "metadata": {},
   "source": [
    "## Exercise 3.1 (RANSAC)  \n",
    "* Implement the RANSAC algorithm in  SLR 3 RANSAC.jl"
   ]
  },
  {
   "cell_type": "code",
   "execution_count": 12,
   "metadata": {},
   "outputs": [
    {
     "data": {
      "text/plain": [
       "SLR_3_RANSAC (generic function with 1 method)"
      ]
     },
     "execution_count": 12,
     "metadata": {},
     "output_type": "execute_result"
    }
   ],
   "source": [
    "using Combinatorics\n",
    "function SLR_3_RANSAC(A, y)\n",
    "   # x: the final estimate\n",
    "   # view the shuffled rows is outlier\n",
    "    m,n=size(A)\n",
    "    #m，n的排列数\n",
    "    #run many times to get the average\n",
    "    indexs=collect(permutations(1:m,n))\n",
    "    yError=1.0\n",
    "    xf=zeros(n,1)\n",
    "    ys=rand(y,n)\n",
    "    for index in indexs\n",
    "        As=A[index,:]\n",
    "        x_hat=inv(As'*As)*(As'*ys)\n",
    "        pi_index,error = SLR_1_Pi_given_x(A, y, x_hat)\n",
    "            #find the min_error respect to one subvector\n",
    "        if yError>error\n",
    "            yError=error\n",
    "            xf=x_hat\n",
    "        end\n",
    "    end\n",
    "    pi_index,error= SLR_1_Pi_given_x(A, y, xf)\n",
    "    return pi_index,error,xf\n",
    "end"
   ]
  },
  {
   "cell_type": "code",
   "execution_count": 6,
   "metadata": {},
   "outputs": [
    {
     "data": {
      "text/plain": [
       "([-1.76113 -0.631543 -1.22846; -0.305494 0.944392 1.28139; … ; 0.00405066 2.42875 -1.06157; -0.245887 0.598749 1.78745], [0.368825; 0.651924; 0.969982], [-2.25285; -1.6977; … ; 0.555146; 2.03344])"
      ]
     },
     "execution_count": 6,
     "metadata": {},
     "output_type": "execute_result"
    }
   ],
   "source": [
    "A,x,y=SLR_1_gen_data(20, 3, 0.0,0.3)"
   ]
  },
  {
   "cell_type": "code",
   "execution_count": 7,
   "metadata": {},
   "outputs": [
    {
     "data": {
      "text/plain": [
       "([1; 7; … ; 19; 20], 7.170483212558056e-15)"
      ]
     },
     "execution_count": 7,
     "metadata": {},
     "output_type": "execute_result"
    }
   ],
   "source": [
    "#test error with sigma=0\n",
    "SLR_3_RANSAC(A, y)"
   ]
  },
  {
   "cell_type": "markdown",
   "metadata": {},
   "source": [
    "* Exercise 3.1 the maximal values of n corresponding to the above m,so that the algorithm remains efficient (terminates in less than half an hour)"
   ]
  },
  {
   "cell_type": "markdown",
   "metadata": {},
   "source": [
    "* Exercise 3.1   \n",
    "Describe this algorithm in the language of RANSAC that you learned from one of the previous lectures.   \n",
    "1.Select every selected n rows of the measure matrix A. Call this matrix set the hypothetical right solution.  \n",
    "2.A linear least square model is fitted to the selectrd matrix A set and a random select subvector y, get a set of $\\hat{x}$  \n",
    "3.for every $\\hat{x}$ in the set computed by the last step, compute the error with the whole y.   \n",
    "4.select the minimal error and $\\hat{x}$  \n",
    "5.compute the $\\Pi$ by SLR\\_1\\_Pi\\_given\\_x.jl   \n",
    "    \n",
    "What is the time complexity of this RANSAC algorithm?    \n",
    "the time complexity of this RANSAC algorithm is $O((N^3 + N^2)M^N)$"
   ]
  },
  {
   "cell_type": "code",
   "execution_count": null,
   "metadata": {},
   "outputs": [],
   "source": [
    "n=4\n",
    "#for m in 20:20:200\n",
    "    t=0.0\n",
    "    while t<=1.5*60*60\n",
    "        t1=time()\n",
    "        A,x,y=SLR_1_gen_data(40, n, 0.01,0.3)\n",
    "        pi_index,error=SLR_3_RANSAC(A, y)\n",
    "        t2=time()\n",
    "        t=t2-t1\n",
    "        #println(t)\n",
    "        n+=1\n",
    "        println(m,n,pi_index,error)\n",
    "    end\n",
    "    #println(m,n)\n",
    "#end"
   ]
  },
  {
   "cell_type": "markdown",
   "metadata": {},
   "source": [
    "|  m|  max_n|\n",
    "|---|:----:|\n",
    "| 20 | 6 |\n",
    "| 40 | 5 |\n",
    "| 60 | 4|\n",
    "| 80 | 4|\n",
    "| 100 | 4|\n",
    "| 120 | 4|\n",
    "| 140 | 4|\n",
    "| 160 | 3|\n",
    "| 180 | 3|\n",
    "| 200 | 3|\n"
   ]
  },
  {
   "cell_type": "markdown",
   "metadata": {},
   "source": [
    "* Exercise 3.1 Run the algorithms and compare Brute Force and RANSAC with errors averaged over 100 trials  \n",
    "Answer:you can see in the result following, obvious the error of Brute Force can always in a low order, because in the small m,n case Brute Force can go through all case, but RANSAC perfomance rely on the iterations and the random selected subvector, error is terriblely big.    \n",
    "if the m,n is very big(normal case),Brute Force can't run"
   ]
  },
  {
   "cell_type": "code",
   "execution_count": 14,
   "metadata": {},
   "outputs": [
    {
     "name": "stdout",
     "output_type": "stream",
     "text": [
      "0.313479279503713350.0074439080122472735"
     ]
    },
    {
     "data": {
      "text/plain": [
       "100-element Array{Any,1}:\n",
       " 0.0029189705892626954\n",
       " 0.8623320028869552   \n",
       " 1.0                  \n",
       " 0.05270090103478715  \n",
       " 2.2942601017379047   \n",
       " 2.1051804037419046   \n",
       " 0.01007513472195127  \n",
       " 1.1941294078181446   \n",
       " 0.0052376732770581386\n",
       " 0.05623592150891767  \n",
       " 1.0                  \n",
       " 0.007038051043853742 \n",
       " 1.0                  \n",
       " ⋮                    \n",
       " 1.0                  \n",
       " 0.005653884406168448 \n",
       " 0.007342768074817725 \n",
       " 1.9485125256032532   \n",
       " 0.004985095827432906 \n",
       " 0.08467413896320783  \n",
       " 1.0                  \n",
       " 1.0                  \n",
       " 0.028667912307279816 \n",
       " 0.522706390094279    \n",
       " 1.0                  \n",
       " 0.011240058208619414 "
      ]
     },
     "execution_count": 14,
     "metadata": {},
     "output_type": "execute_result"
    }
   ],
   "source": [
    "#compare Brute Force and RANSAC with errors averaged over 100 trials\n",
    "#A,x,y=SLR_1_gen_data(7, 3, 0.01,0.3)\n",
    "E_ransac=[]\n",
    "E_brute_force=[]\n",
    "for i in 1:100\n",
    "    A,x,y=SLR_1_gen_data(7, 3, 0.01,0.3)\n",
    "    pi_index1,error,xf=SLR_3_RANSAC(A, y)\n",
    "    error1=norm(x-xf)/norm(x)\n",
    "    push!(E_ransac,error1)\n",
    "    pi_index2,error,x_f=SLR_2_brute_force(A,y)\n",
    "    error2=norm(x-x_f)/norm(x)\n",
    "    push!(E_brute_force,error2)\n",
    "end\n",
    "e1=sum(E_ransac)/100\n",
    "e2=sum(E_brute_force)/100\n",
    "print(e1,e2)#0.8735802239094776 0.018882414427911255\n",
    "E_ransac"
   ]
  },
  {
   "cell_type": "markdown",
   "metadata": {},
   "source": [
    "* Exercise 3.2   \n",
    "Question:If we want the algorithm to find the groundtruth parameter x with probability γ, then how many iterations should we at least run?  \n",
    "Answer：The problem can be equaled to pick one right $\\Pi$ from a alternating set without replacement. $A_{m}^{n}$ is the permutating number ,so at the kth select, we havn't get the right $\\Pi$ with a probability$\\frac{A_{m}^{n}-1}{A_{m}^{n}}\\frac{A_{m}^{n}-2}{A_{m}^{n}-1}...\\frac{A_{m}^{n}-k}{A_{m}^{n}-k-1}=\\frac{A_{m}^{n}-k}{A_{m}^{n}}$,which means $1-\\gamma=\\frac{A_{m}^{n}-k}{A_{m}^{n}}$,so $\\gamma=1-\\frac{A_{m}^{n}-k}{A_{m}^{n}}$, so $k=\\gamma A_{m}^{n}$. you can view this as a Expectation with regard to $\\gamma$。"
   ]
  },
  {
   "cell_type": "markdown",
   "metadata": {},
   "source": [
    "## 4 Alternating Minimization"
   ]
  },
  {
   "cell_type": "markdown",
   "metadata": {},
   "source": [
    "* Exercise 4.1 (Alternating Minimization)Put respectively the algorithm implementation in SLR 4 AltMin.jl"
   ]
  },
  {
   "cell_type": "code",
   "execution_count": 15,
   "metadata": {},
   "outputs": [
    {
     "data": {
      "text/plain": [
       "SLR_4_AltMin (generic function with 1 method)"
      ]
     },
     "execution_count": 15,
     "metadata": {},
     "output_type": "execute_result"
    }
   ],
   "source": [
    "#using Distributions\n",
    "using LinearAlgebra\n",
    "function SLR_4_AltMin(A, y, x0, num_iter)\n",
    "\"\"\"% x0: the initialization\n",
    "% num_iter: the number of iterations the algorithm run\n",
    "%           set it to be large enough if not sure, 100 is a typical choice.\n",
    "% x_hat: the final estimate\n",
    "% e_hat: the objective function value\n",
    "\n",
    "x_hat = 0;\n",
    "e_hat = 0;\n",
    "    end\"\"\"\n",
    "    x_hat=x0\n",
    "    i=0\n",
    "    E_hat=[]\n",
    "    while i<=num_iter\n",
    "        pi_index,_=SLR_1_Pi_given_x(A, y, x_hat)\n",
    "        As=A[pi_index[:,1],:]\n",
    "        x_ls=inv(As'*As)*(As'*y)\n",
    "        e_hat=norm(As*x_ls-y)\n",
    "        push!(E_hat,e_hat)\n",
    "        x_hat=x_ls\n",
    "        i=i+1\n",
    "        #println(xi)\n",
    "    end\n",
    "    return x_hat,E_hat\n",
    "end"
   ]
  },
  {
   "cell_type": "code",
   "execution_count": 16,
   "metadata": {},
   "outputs": [],
   "source": [
    "using Plots"
   ]
  },
  {
   "cell_type": "code",
   "execution_count": 43,
   "metadata": {
    "scrolled": true
   },
   "outputs": [
    {
     "data": {
      "image/png": "[encoded data removed]"
     },
     "execution_count": 43,
     "metadata": {},
     "output_type": "execute_result"
    }
   ],
   "source": [
    "#a decreasing curve as the iteration goes.\n",
    "A,x,y=SLR_1_gen_data(30, 4, 0.01,0.3 )\n",
    "m,n=size(A)\n",
    "x0=rand(n,1)\n",
    "x01=randn(n,1)\n",
    "x02=x+randn(n,1)\n",
    "x_hat,E_hat=SLR_4_AltMin(A, y, x0, 100)\n",
    "x_hat1,E_hat1=SLR_4_AltMin(A, y, x01, 100)\n",
    "x_hat2,E_hat2=SLR_4_AltMin(A, y, x02, 100)\n",
    "i =1: length(E_hat)\n",
    "plot(i,E_hat[i],label=\"residual error with random initialization\",fmt = :png)\n",
    "plot!(i,E_hat1[i],label=\"residual error with norm distribution\",fmt = :png)\n",
    "plot!(i,E_hat2[i],label=\"residual error with points around true value\",fmt = :png)\n",
    "    "
   ]
  },
  {
   "cell_type": "markdown",
   "metadata": {},
   "source": [
    "* Prove that for random initialization the objective function (4.1) decreases in each iteration.  \n",
    "$$||\\vec{y}-\\Pi^{(t)}A\\vec{x}^{(t)}||_2$$ \n",
    "\n",
    "$$\\vec{y}=\\Pi^{(t)}A\\vec{x}+\\vec{\\epsilon} \n",
    "=||\\Pi^{(*)}A\\vec{x}^{(*)}+\\vec{\\epsilon}-\\Pi^{(t)}A\\vec{x}^{(t)}||_2$$  \n",
    "$$=||\\Pi^{(*)}A\\vec{x}^{(*)}-\\Pi^{(t)}A(\\vec{x}^{(t)}-\\vec{x}^{(*)})-\\Pi^{(t)}A\\vec{x}^{(*)})||_2+||\\vec{\\epsilon}||_2$$\n",
    "\n",
    "$$=||(\\Pi^{(*)}-\\Pi^{(t)})A\\vec{x}^{(*)}+\\Pi^{(t)}A(\\vec{x}^{(*)}-\\vec{x}^{(t)})||_2+||\\vec{\\epsilon}||_2$$\n",
    "\n",
    "we update $\\vec{x}^{(t)}$ first, by minmize the $||\\Pi^{(t)}A(\\vec{x}^{(*)}-\\vec{x}^{(t)})||_2$, we get the $\\vec{x}^{(t+1)}$,  \n",
    "then use this $\\vec{x}^{(t+1)}$ as $\\vec{x}^{(*)}$, we minnize $||(\\Pi^{(*)}-\\Pi^{(t)})A\\vec{x}^{(*)}||_2$ , we get the \\Pi^{(t+1)}  \n",
    "so you can see the objective function is always the minmixal value, so the objective function (4.1) decreases in each iteration"
   ]
  },
  {
   "cell_type": "markdown",
   "metadata": {},
   "source": [
    "* Instead of running fixed number of iterations before termination, which is ad- hoc, or terminating until it converges, which is equivocal, propose and imple- ment a meaningful termination criterion for this algorithm.  \n",
    " a meaningful termination criterion for this algorithm.  \n",
    " when $||x^{(k+1)}-x^{(k)}||_2$<eps(given), we stop ,code is following"
   ]
  },
  {
   "cell_type": "code",
   "execution_count": 20,
   "metadata": {},
   "outputs": [
    {
     "data": {
      "text/plain": [
       "SLR_4_AltMin2 (generic function with 1 method)"
      ]
     },
     "execution_count": 20,
     "metadata": {},
     "output_type": "execute_result"
    }
   ],
   "source": [
    "using Distributions\n",
    "using LinearAlgebra\n",
    "function SLR_4_AltMin2(A, y, x0, eps)\n",
    "    x_hat=x0\n",
    "    delt=1.0\n",
    "    while delt>eps\n",
    "        pi_index,_=SLR_1_Pi_given_x(A, y, x_hat)\n",
    "        As=A[pi_index[:,1],:]\n",
    "        x_ls=inv(As'*As)*(As'*y)\n",
    "        e_hat=norm(As*x_ls-y)\n",
    "        push!(E_hat,e_hat)\n",
    "        delt=norm(x_hat-x_ls)\n",
    "        x_hat=x_ls\n",
    "    end\n",
    "    return x_hat,E_hat\n",
    "end"
   ]
  },
  {
   "cell_type": "markdown",
   "metadata": {},
   "source": [
    "* Using as initialization the least-square solution of (2.1), run the algorithms, plot the errors  as a function of shuffled ratio (100 averages)"
   ]
  },
  {
   "cell_type": "code",
   "execution_count": 40,
   "metadata": {},
   "outputs": [
    {
     "data": {
      "image/png": "[encoded data removed]"
     },
     "execution_count": 40,
     "metadata": {},
     "output_type": "execute_result"
    }
   ],
   "source": [
    "Error_ave=[]\n",
    "for shuffle_rate in 0:0.1:1\n",
    "    Error=[]\n",
    "    for i in 1:100\n",
    "        A,x,y=SLR_1_gen_data(10, 4, 0.01,shuffle_rate )\n",
    "        m,n=size(A)\n",
    "        x0=inv(A'*A)*(A'*y)\n",
    "        eps=1e-10\n",
    "        x_hat,E_hat=SLR_4_AltMin2(A, y, x0, eps)\n",
    "        error=norm(x_hat-x)/norm(x)\n",
    "        push!(Error,error)\n",
    "    end\n",
    "    error_ave=sum(Error)/100\n",
    "    #println(shuffle_rate,error_ave)\n",
    "    push!(Error_ave,error_ave)\n",
    "end\n",
    "i=1:length(Error_ave)\n",
    "shuffle_rate = 0:0.1:1\n",
    "plot(shuffle_rate,Error_ave[i],label=\"ave_error by SLR_4_AltMin2\",fmt = :png)"
   ]
  },
  {
   "cell_type": "markdown",
   "metadata": {},
   "source": [
    "* Exercise 4.2 (Expectation Maximization).Describe this alter- nating minimization algorithm in the language of Expectation Maximization (EM)."
   ]
  },
  {
   "cell_type": "markdown",
   "metadata": {},
   "source": [
    "General EM  \n",
    "x:unobservable varible  \n",
    "z:Latent varible   \n",
    "y=f(x)+noise\n",
    "(x,z are all vector varible,if z is a continus random varible, change $\\sum_{z}$ to $\\int_{z}...dz$)   \n",
    "\n",
    "$$argmax_{\\theta}logP(\\vec{x}|\\theta)=logP(\\vec{z},\\vec{x}|\\theta)-logP(\\vec{z}|\\vec{x},\\theta)=log\\frac{P(\\vec{z},\\vec{x}|\\theta)}{q(\\vec{z})}-log\\frac{P(\\vec{z}|\\vec{x},\\theta)}{q(\\vec{z})}$$\n",
    "\n",
    "$$logP(\\vec{x})=\\sum_{z}q(\\vec{z})logP(\\vec{x})=\\sum_{z}q(\\vec{z})log\\frac{P(\\vec{z},\\vec{x}|\\theta)}{q(\\vec{z})}-\\sum_{z}q(\\vec{z})log\\frac{P(\\vec{z}|\\vec{x},\\theta)}{q(\\vec{z})}$$\n",
    "\n",
    "$$logP(\\vec{x}|\\theta)=log\\frac{P(\\vec{z},\\vec{x}|\\theta)}{q(\\vec{z})}-log\\frac{P(\\vec{z}|\\vec{x},\\theta)}{q(\\vec{z})}\\\\\\\n",
    "ELBO=\\sum_{z}q(\\vec{z})log\\frac{P(\\vec{z},\\vec{x}|\\theta)}{q(\\vec{z})}$$\n",
    "\n",
    "$$KL(q(\\vec{z})||P(\\vec{z}|\\vec{x},\\theta))=\\sum_{z}q(\\vec{z})log\\frac{P(\\vec{z}|\\vec{x},\\theta)}{q(\\vec{z})}$$\n",
    "\n",
    "$$whole step :\\theta^{t+1}=\\underbrace{argmax}_{\\theta^{t+1}} \\sum_{Z} log P(x,z|\\theta)P(z|x,\\theta^{t})$$\n",
    "\n",
    "E-step: Evaluate $P(z|x,\\theta^{t})$, to get  $q(\\vec{z})=P(\\vec{z}|\\vec{x},\\theta)$,so that KL=0   \n",
    "M-step:$\\underbrace{argmax}_{\\theta^{t+1}} \\sum_{Z}logP(z|x,\\theta^{t})P(x,z|\\theta^{t+1})$,maximize  ELBO\n"
   ]
  },
  {
   "cell_type": "markdown",
   "metadata": {},
   "source": [
    "* the Altmin is equal to EM, we assume the $\\Pi$ is the latent varible z\n",
    "the whole EM can be described as:   $\\Pi^{t+1}=\\underbrace{argmax}_{\\Pi^{t+1}} P(\\Pi^{t+1}|A,y,x^{t})$  \n",
    "M_step: get the solution of OLS,$(A^TA)^{-1}*A^T*\\Pi^T*y$  \n",
    "when get the best $\\Pi^{(t)}$ from last step the least square step is equal to a MLE process to get the new $x^{(t+1)}$\n",
    "\n",
    "$$\\vec{y}=\\Pi^{(t)}A\\vec{x}+\\vec{\\epsilon} $$\n",
    "$$\\left[ \\begin{matrix} y_1 \\\\ y_2 \\\\ ... \\\\ y_m \\end{matrix} \\right]=\\left[ \\begin{matrix} a_1^T \\\\ a_2^T \\\\ ... \\\\ a_m^T \\end{matrix} \\right]\\vec{x},\\Pi^{(t)}A=\\left[ \\begin{matrix} a_1^T \\\\ a_2^T \\\\ ... \\\\ a_m^T \\end{matrix}\\right]$$ \n",
    "\n",
    "$$\\underbrace{argmax}_{{x^{(t+1)}}} log P(\\vec{y}|\\vec{x})$$\n"
   ]
  },
  {
   "cell_type": "markdown",
   "metadata": {},
   "source": [
    "\n",
    "$$log P(\\vec{y}|\\vec{x})=\\sum_{i=1}^{m}P(y_i|\\vec{x})=-\\frac{m}{2}log2\\pi\\sigma^2-\\sum_{i=1}^{m}-\\frac{(y_i-\\vec{a_i}^T\\vec{x})^2}{2\\sigma^2}$$\n",
    "$$\\underbrace{argmax}_{{x^{(t+1)}}} log P(\\vec{y}|\\vec{x})=\\underbrace{argmin}_{{x^{(t+1)}}} log \\sum_{i=1}^{m}-\\frac{(y_i-\\vec{a_i}^T\\vec{x})^2}{2\\sigma^2}$$\n"
   ]
  },
  {
   "cell_type": "markdown",
   "metadata": {},
   "source": [
    "\n",
    "$$\\underbrace{argmin}_{{x^{(t+1)}}} \\frac{1}{2\\sigma^2}||\\vec{y}-\\Pi^{(t)}A\\vec{x}||_2^2$$"
   ]
  },
  {
   "cell_type": "markdown",
   "metadata": {},
   "source": [
    "E-step: $\\Pi^{t+1}$ is the permutation that re-orders y according to the order of $A*x^{t}$.   \n",
    "estimate $logP(\\vec{y}|\\vec{x},\\Pi),\\Pi$ with the $x^{t+1}$ ,to make $KL(q(\\Pi)||p(\\Pi|x^{t+1})=0$   \n",
    "In this case ,the distribution of $\\Pi$ can define by the real case,KL is a distance between distribution,we can define another kind distance of two permutation matrix $Pi^{k+1}$ and $Pi^{k}$ at this step ,just mean that we compute the optimal $Pi^*$ at the step k+1 according to the $x^{t+1}$ "
   ]
  },
  {
   "cell_type": "markdown",
   "metadata": {},
   "source": [
    "# 5 Robust Regression"
   ]
  },
  {
   "cell_type": "markdown",
   "metadata": {},
   "source": [
    "* Exercise 5.1 (robust regression).describe a brute force solution to the l0 norm minimization problem,and explain (not prove) why it makes sense to minimize (5.1) for partially shuffled data \n",
    "a brute force solution:   \n",
    "select all subvector $y_d(R^n)$ of y, and the related rows of $A_{dxd}$. and solve the equation $y_d=A_{dxd}x_{hat}$, get the feasible  set of all $x_{hat}$  \n",
    "compare all the sum(sign($Ax_{hat}-y$)),select the smallest one as the optimal   \n",
    "there are set of all possible permute matrix,you can treat permuted data as outliers by using robust regression formulations to estimate the regression parameter , if outliers/outliers+inliers>n/m, it's impossble to find n equations satisfy $a_i^Tx=0$ to get the x"
   ]
  },
  {
   "cell_type": "markdown",
   "metadata": {},
   "source": [
    "* Using CVX, solve the problems"
   ]
  },
  {
   "cell_type": "code",
   "execution_count": 22,
   "metadata": {},
   "outputs": [],
   "source": [
    "using Convex\n",
    "using SCS\n",
    "A,x,y= SLR_1_gen_data(10, 4, 0.0,0.3 )\n",
    "m,n=size(A)\n",
    "x1 = Variable(n)\n",
    "solver = SCSSolver(verbose=0)\n",
    "p1= minimize(norm(A*x1-y,1))\n",
    "solve!(p1, solver)"
   ]
  },
  {
   "cell_type": "code",
   "execution_count": 47,
   "metadata": {},
   "outputs": [
    {
     "data": {
      "text/plain": [
       "4×1 Array{Float64,2}:\n",
       "  1.2069352521807488 \n",
       "  0.549912172957143  \n",
       " -1.1930431115716382 \n",
       " -0.07884643347479231"
      ]
     },
     "execution_count": 47,
     "metadata": {},
     "output_type": "execute_result"
    }
   ],
   "source": [
    "x1.value"
   ]
  },
  {
   "cell_type": "code",
   "execution_count": 217,
   "metadata": {},
   "outputs": [
    {
     "name": "stdout",
     "output_type": "stream",
     "text": [
      "[0.855887; 0.412425; 1.43211; 0.637106]"
     ]
    }
   ],
   "source": [
    "x2 = Variable(m+n)\n",
    "solver = SCSSolver(verbose=0)\n",
    "l=0.1\n",
    "p2=minimize(norm(y-A*x2[1:n]-sqrt(m)*x2[n+1:m+n],2)/m+l*norm(x2[n+1:m+n],1))\n",
    "solve!(p2, solver)"
   ]
  },
  {
   "cell_type": "code",
   "execution_count": 220,
   "metadata": {},
   "outputs": [
    {
     "data": {
      "text/plain": [
       "4-element Array{Float64,1}:\n",
       " 0.8558864677727053 \n",
       " 0.41242536140934155\n",
       " 1.4321071995548562 \n",
       " 0.6371054827514245 "
      ]
     },
     "execution_count": 220,
     "metadata": {},
     "output_type": "execute_result"
    }
   ],
   "source": [
    "x2.value[1:n]"
   ]
  },
  {
   "cell_type": "markdown",
   "metadata": {},
   "source": [
    "* test whether solution is  sensitive to λ\n",
    "solution is  sensitive to λ"
   ]
  },
  {
   "cell_type": "code",
   "execution_count": 54,
   "metadata": {},
   "outputs": [
    {
     "data": {
      "image/png": "[encoded data removed]"
     },
     "execution_count": 54,
     "metadata": {},
     "output_type": "execute_result"
    }
   ],
   "source": [
    "#big m \n",
    "A,x_,y= SLR_1_gen_data(15, 4, 0.0,0.3 )\n",
    "m,n=size(A)\n",
    "solution=[]\n",
    "x = Variable(m+n)\n",
    "for l in 0.01:0.01:1\n",
    "    p2=minimize(norm(y-A*x[1:n]-sqrt(m)*x[n+1:m+n],2)/m+l*norm(x[n+1:m+n],1))\n",
    "    solve!(p2, solver)\n",
    "    #println(l,x.value[1:n])\n",
    "    push!(solution,norm(x.value[1:n]))\n",
    "end\n",
    "i=1:length(solution)\n",
    "l = 0.01:0.01:1\n",
    "plot(l,solution[i],label=\"the norm of x \",fmt = :png)\n"
   ]
  },
  {
   "cell_type": "markdown",
   "metadata": {},
   "source": [
    "* Describe the relation  \n",
    "(5.2) is obtained from (5.3) in the limit λ → 0 and the additional constraint y = Ax + sqrt(m)e. In that sense, (5.2) can be seen as the counterpart to (5.3) in a noiseless setup."
   ]
  },
  {
   "cell_type": "markdown",
   "metadata": {},
   "source": [
    "* Experimentally verify that the algorithms are scalable by setting m and/or n large enough, e.g., can they run for m = 10000? 50000?  \n",
    "10000 is too big for (5.2),it will get wrong solution. (5.3) is working normal with m=10000,\n",
    "(5.3) can work with m=50000, with error about 0.3\n",
    "\n"
   ]
  },
  {
   "cell_type": "code",
   "execution_count": 90,
   "metadata": {},
   "outputs": [
    {
     "name": "stderr",
     "output_type": "stream",
     "text": [
      "┌ Warning: Problem status UnknownError; solution may be inaccurate.\n",
      "└ @ Convex /Users/martinawu/.julia/packages/Convex/81M4N/src/solution.jl:48\n"
     ]
    }
   ],
   "source": [
    "A,x,y= SLR_1_gen_data(10000, 5, 0.01,0.3 )\n",
    "m,n=size(A)\n",
    "x1 = Variable(n)\n",
    "solver = SCSSolver(verbose=0)\n",
    "p1= minimize(norm(A*x1-y,1))\n",
    "solve!(p1, solver)\n"
   ]
  },
  {
   "cell_type": "code",
   "execution_count": 91,
   "metadata": {},
   "outputs": [
    {
     "data": {
      "text/plain": [
       "5×1 Array{Float64,2}:\n",
       " -0.3607171967920287 \n",
       " -1.5389834805079545 \n",
       "  0.8708969029125028 \n",
       "  0.22769747046606195\n",
       "  0.6532348296947064 "
      ]
     },
     "execution_count": 91,
     "metadata": {},
     "output_type": "execute_result"
    }
   ],
   "source": [
    "x1.value"
   ]
  },
  {
   "cell_type": "code",
   "execution_count": 88,
   "metadata": {},
   "outputs": [],
   "source": [
    "x2 = Variable(m+n)\n",
    "solver = SCSSolver(verbose=0)\n",
    "l=0.1\n",
    "p2=minimize(norm(y-A*x2[1:n]-sqrt(m)*x2[n+1:m+n],2)/m+l*norm(x2[n+1:m+n],1))\n",
    "solve!(p2, solver)"
   ]
  },
  {
   "cell_type": "code",
   "execution_count": 89,
   "metadata": {},
   "outputs": [
    {
     "data": {
      "text/plain": [
       "5-element Array{Float64,1}:\n",
       " -0.9608080701725557 \n",
       " -0.8169318489479432 \n",
       "  0.29699234137699493\n",
       "  0.8973141534323976 \n",
       "  0.15918493809456902"
      ]
     },
     "execution_count": 89,
     "metadata": {},
     "output_type": "execute_result"
    }
   ],
   "source": [
    "x2.value[1:n]"
   ]
  },
  {
   "cell_type": "code",
   "execution_count": 99,
   "metadata": {},
   "outputs": [
    {
     "data": {
      "text/plain": [
       "5-element Array{Float64,1}:\n",
       "  1.0651314263484932 \n",
       " -0.48081872977877604\n",
       "  0.12441782817236716\n",
       "  0.2848575511398224 \n",
       "  0.3806178257663805 "
      ]
     },
     "execution_count": 99,
     "metadata": {},
     "output_type": "execute_result"
    }
   ],
   "source": [
    "A,x,y= SLR_1_gen_data(50000, 5, 0.01,0.3 )\n",
    "m,n=size(A)\n",
    "x2 = Variable(m+n)\n",
    "solver = SCSSolver(verbose=0)\n",
    "l=0.1\n",
    "p2=minimize(norm(y-A*x2[1:n]-sqrt(m)*x2[n+1:m+n],2)/m+l*norm(x2[n+1:m+n],1))\n",
    "solve!(p2, solver)\n",
    "x2.value[1:n]"
   ]
  },
  {
   "cell_type": "code",
   "execution_count": 103,
   "metadata": {},
   "outputs": [
    {
     "data": {
      "text/plain": [
       "0.29665644525615004"
      ]
     },
     "execution_count": 103,
     "metadata": {},
     "output_type": "execute_result"
    }
   ],
   "source": [
    "norm(x-x2.value[1:n])/norm(x)"
   ]
  },
  {
   "cell_type": "markdown",
   "metadata": {},
   "source": [
    "* Set m, n appropriately and sigma = 0.01 fixed, and produce error curves as a function of shuffled ratio as in §4. This figure should contain three methods ((5.2), (5.3), alternating minimization) and should have distinguishable appear- ance (e.g., corret legends). "
   ]
  },
  {
   "cell_type": "code",
   "execution_count": 48,
   "metadata": {},
   "outputs": [],
   "source": [
    "Error_ave1=[]\n",
    "Error_ave2=[]\n",
    "for shuffle_rate in 0:0.1:1\n",
    "    Error1=[]\n",
    "    Error2=[]\n",
    "    for i in 1:100\n",
    "        A,x,y=SLR_1_gen_data(10, 4, 0.01,shuffle_rate )\n",
    "        m,n=size(A)\n",
    "        x1 = Variable(n)\n",
    "        solver = SCSSolver(verbose=0)\n",
    "        p1= minimize(norm(A*x1-y,1))\n",
    "        solve!(p1, solver)\n",
    "        error1=norm(x1.value-x)/norm(x)\n",
    "        push!(Error1,error1)\n",
    "        x2 = Variable(m+n)\n",
    "        l=0.1\n",
    "        p2=minimize(norm(y-A*x2[1:n]-sqrt(m)*x2[n+1:m+n],2)/m+l*norm(x2[n+1:m+n],1))\n",
    "        solve!(p2, solver)\n",
    "        error2=norm(x2.value[1:n]-x)/norm(x)\n",
    "        push!(Error2,error2)\n",
    "    end\n",
    "    error_ave1=sum(Error1)/100\n",
    "    error_ave2=sum(Error2)/100\n",
    "    push!(Error_ave1,error_ave1)\n",
    "    push!(Error_ave2,error_ave2)\n",
    "end\n"
   ]
  },
  {
   "cell_type": "code",
   "execution_count": 49,
   "metadata": {},
   "outputs": [
    {
     "data": {
      "image/png": "[encoded data removed]"
     },
     "execution_count": 49,
     "metadata": {},
     "output_type": "execute_result"
    }
   ],
   "source": [
    "i=1:length(Error_ave)\n",
    "shuffle_rate = 0:0.1:1\n",
    "plot(shuffle_rate,[Error_ave[i],Error_ave1[i],Error_ave2[i]],label=[\"ave_error by SLR_4_AltMin2\",\"5.2\",\"5.3\"],fmt = :png)\n",
    "#plot!(shuffle_rate,Error_ave1[i],label=\"5.2\",fmt = :png)\n",
    "#plot!(shuffle_rate,Error_ave2[i],label=\"5.3\",fmt = :png)"
   ]
  },
  {
   "cell_type": "markdown",
   "metadata": {},
   "source": [
    "# 6 The Algebraic Method"
   ]
  },
  {
   "cell_type": "markdown",
   "metadata": {},
   "source": [
    "* Exercise 6.1  \n",
    "$p_2(Ax)=84x_1^2+120x_2^2+100x_1x_2$  \n",
    "$p_3(Ax)=496x_1^3+580x_1^2x_2+680x_1x_2^2+800x_2^3$"
   ]
  },
  {
   "cell_type": "code",
   "execution_count": 84,
   "metadata": {},
   "outputs": [
    {
     "data": {
      "text/plain": [
       "4×2 Array{Int64,2}:\n",
       " 1  2\n",
       " 3  4\n",
       " 5  6\n",
       " 7  8"
      ]
     },
     "execution_count": 84,
     "metadata": {},
     "output_type": "execute_result"
    }
   ],
   "source": [
    "A=[1 2;3 4;5 6;7 8]"
   ]
  },
  {
   "cell_type": "code",
   "execution_count": 16,
   "metadata": {},
   "outputs": [
    {
     "data": {
      "text/plain": [
       "1×2 Array{Int64,2}:\n",
       " 496  800"
      ]
     },
     "execution_count": 16,
     "metadata": {},
     "output_type": "execute_result"
    }
   ],
   "source": [
    "sum(A.^2,dims=1)\n",
    "sum(A[:,1].*A[:,2])\n",
    "sum(A.^3,dims=1)\n",
    "sum((A.^2)[:,1].*A[:,2])\n",
    "sum((A.^2)[:,2].*A[:,1])"
   ]
  },
  {
   "cell_type": "markdown",
   "metadata": {},
   "source": [
    "* Implement the required part in SLR 5 algebraic.m so that it produces the correct output when noiseless and running SLR 5 algebraic run.m gives nearly zero errors. (4 points)\n"
   ]
  },
  {
   "cell_type": "markdown",
   "metadata": {},
   "source": [
    "* For n=3,how long it takes to run for m=100,m=10000 and m=50000? (b) Check the code solver SLR n2.m and solver SLR n5.m. Does it surprise you?"
   ]
  },
  {
   "cell_type": "markdown",
   "metadata": {},
   "source": [
    "|  m| n|t|\n",
    "|---|:----:|:----:\n",
    "|100 | 3 |0.013s|\n",
    "|1000 | 3 |0.033s|\n",
    "|50000 | 3 |2.727390s|\n"
   ]
  },
  {
   "cell_type": "code",
   "execution_count": null,
   "metadata": {},
   "outputs": [],
   "source": []
  }
 ],
 "metadata": {
  "kernelspec": {
   "display_name": "Julia 1.1.0",
   "language": "julia",
   "name": "julia-1.1"
  },
  "language_info": {
   "file_extension": ".jl",
   "mimetype": "application/julia",
   "name": "julia",
   "version": "1.1.0"
  }
 },
 "nbformat": 4,
 "nbformat_minor": 2
}
